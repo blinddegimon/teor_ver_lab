{
 "cells": [
  {
   "cell_type": "markdown",
   "metadata": {},
   "source": [
    "# Домашня робота №2"
   ]
  },
  {
   "cell_type": "markdown",
   "metadata": {},
   "source": [
    "## 1 Пароль\n",
    "Напишіть програму (функцію) для генерування випадкового пароля з такими обмеженнями:\n",
    "- пароль складається з рівно $10$ символів\n",
    "- пароль містить хоча б одну маленьку латинську літеру [a-z]\n",
    "- пароль містить хоча б одну велику латинську літеру [A-Z]\n",
    "- пароль містить хоча б одну цифру [0-9]\n",
    "- пароль містить хоча б один спеціальний символ [~!@#$%^&*()-_+=\\/{}[].,?<>:;]"
   ]
  },
  {
   "cell_type": "code",
   "execution_count": 3,
   "metadata": {
    "collapsed": true
   },
   "outputs": [
    {
     "name": "stdout",
     "output_type": "stream",
     "text": [
      "[1]\n"
     ]
    }
   ],
   "source": [
    "# Місце для Вашого коду\n",
    "import numpy as np\n",
    "\n",
    "a = [1,2,3,4,5,6,7,8,9,0]\n",
    "size = 1\n",
    "probs = [0.1, 0.1, 0.1, 0.1, 0.1, 0.1, 0.1, 0.1, 0.1, 0.1]\n",
    "replace = True\n",
    "print(np.random.choice(a, size=size, replace=replace, p=probs))"
   ]
  },
  {
   "cell_type": "markdown",
   "metadata": {},
   "source": [
    "## 2 Герби в ряд\n",
    "Реалізуйте функцію для обчислення емпіричної та теоретичної імовірностей випадіння $k$ гербів (HEADS) підряд у серії з $n$ підкидань чесної монетки. Підрахуйте відповідні ймовірності для таких параметрів:\n",
    "- $k = 2, n = 10, 50, 100, 500, 1000, 5000, 10000$\n",
    "- $k = 3, n = 10, 50, 100, 500, 1000, 5000, 10000$\n",
    "\n",
    "**Зауваження.** Нехай $k = 2, n = 10$ та маємо таку послідовність результатів підкидання монети: $\\{ H, T, H, H, H, H, T, T, H, T \\}$. Тоді матимемо $3$ випадки випадіння двох гербів підряд та емпіричну ймовірність такої події $1/3$."
   ]
  },
  {
   "cell_type": "code",
   "execution_count": 4,
   "metadata": {
    "collapsed": true
   },
   "outputs": [
    {
     "name": "stdout",
     "output_type": "stream",
     "text": [
      "[[7 9 5 1 4 3]\n [8 0 9 4 4 1]\n [0 0 5 9 1 4]\n [3 8 9 3 2 4]]\n"
     ]
    }
   ],
   "source": [
    "# Місце для Вашого коду\n",
    "import numpy as np\n",
    "\n",
    "a = [1,2,3,4,5,6,7,8,9,0]\n",
    "m = 4\n",
    "n = 6\n",
    "probs = [0.1, 0.1, 0.1, 0.1, 0.1, 0.1, 0.1, 0.1, 0.1, 0.1]\n",
    "replace = True\n",
    "print(np.random.choice(a, size=(m,n), replace=replace, p=probs))\n"
   ]
  },
  {
   "cell_type": "markdown",
   "metadata": {},
   "source": [
    "## 3 Найбільше число\n",
    "Реалізуйте функцію підрахунку точної (теоретичної) імовірності того, що максимальне число після $n$ кидків звичайного грального кубика дорівнює $x\\_max$, для таких параметрів:\n",
    "- $n = 3, x\\_max = 6$\n",
    "- $n = 2, x\\_max = 3$\n",
    "- $n = 3, x\\_max = 5$\n",
    "\n",
    "Тобто, якщо $X_i, i = 1, \\ldots, n$, - число на $i$-му кидку кубика, а $X = \\max\\limits_{1 \\leq i \\leq n} X_i$, то потрібно знайти ймовірність $\\textbf{P} \\left( X = x\\_max \\right)$.\n",
    "\n",
    "Підрахуйте також емпіричні ймовірності відповідних подій у випадку $10000$ симуляцій.\n",
    "\n",
    "**Зауваження.** Якщо введені параметри не мають сенсу, то повертати $0$.\n",
    "Тобто, якщо вводиться $x\\_max < 1$ або $x\\_max > 6$."
   ]
  },
  {
   "cell_type": "code",
   "execution_count": 5,
   "metadata": {
    "collapsed": true
   },
   "outputs": [
    {
     "name": "stdout",
     "output_type": "stream",
     "text": [
      "[[0.53650246 0.15186682 0.13089435 0.71604002]\n [0.5528914  0.80974942 0.54735092 0.43020095]\n [0.20448029 0.64944046 0.33739768 0.42908901]]\n"
     ]
    }
   ],
   "source": [
    "# Місце для Вашого коду\n",
    "size = (3,4)\n",
    "\n",
    "print(np.random.sample(size=size))\n"
   ]
  },
  {
   "cell_type": "markdown",
   "metadata": {},
   "source": [
    "## 4 Сума чисел\n",
    "Реалізуйте функцію підрахунку точної (теоретичної) імовірності того, що сума чисел після $n$ кидків звичайного грального кубика дорівнює $s$, для таких параметрів:\n",
    "- $n = 3, s = 13$\n",
    "- $n = 2, s = 5$\n",
    "- $n = 3, s = 7$\n",
    "\n",
    "Тобто, якщо $X_i, i = 1, \\ldots, n$, - число на $i$-му кидку кубика, а $X = \\sum\\limits_{i = 1}^{n} X_i$, то потрібно знайти ймовірність $\\textbf{P} \\left( X = s \\right)$.\n",
    "\n",
    "Підрахуйте також емпіричні ймовірності відповідних подій у випадку $10000$ симуляцій.\n",
    "\n",
    "**Зауваження.** Якщо введені параметри не мають сенсу, то повертати $0$.\n",
    "Наприклад, якщо при $n = 3$ вводиться $s < 3$ або $s > 18$."
   ]
  },
  {
   "cell_type": "code",
   "execution_count": 10,
   "metadata": {
    "collapsed": true
   },
   "outputs": [
    {
     "name": "stdout",
     "output_type": "stream",
     "text": [
      "[4.96757162 3.97093248 4.73674734 4.59139723 4.92967634 4.85698424\n 4.26290743 3.49144148 4.95970126 3.24562421]\n"
     ]
    }
   ],
   "source": [
    "# Місце для Вашого коду\n",
    "a = 3\n",
    "b = 5\n",
    "size = 10\n",
    "\n",
    "print((b-a)*np.random.sample(size=size) + a)"
   ]
  },
  {
   "cell_type": "code",
   "execution_count": 12,
   "metadata": {},
   "outputs": [
    {
     "name": "stdout",
     "output_type": "stream",
     "text": [
      "[[ 0  1  2  3  4]\n [ 5  6  7  8  9]\n [10 11 12 13 14]\n [15 16 17 18 19]]\n[[15 16 17 18 19]\n [ 5  6  7  8  9]\n [10 11 12 13 14]\n [ 0  1  2  3  4]]\n"
     ]
    }
   ],
   "source": [
    "M = np.arange(20).reshape((4, 5))\n",
    "print(M)\n",
    "np.random.shuffle(M)\n",
    "print(M)"
   ]
  },
  {
   "cell_type": "code",
   "execution_count": 13,
   "metadata": {},
   "outputs": [
    {
     "name": "stdout",
     "output_type": "stream",
     "text": [
      "['T' 'T' 'H' 'T' 'T' 'T' 'T' 'T' 'T' 'H' 'H' 'H' 'T' 'T' 'T' 'H' 'T' 'H'\n 'T' 'T' 'H' 'H' 'H' 'H' 'H' 'H' 'H' 'H' 'T' 'T' 'H' 'T' 'T' 'T' 'T' 'T'\n 'H' 'H' 'H' 'H' 'T' 'T' 'H' 'T' 'H' 'H' 'H' 'T' 'T' 'H' 'T' 'T' 'T' 'H'\n 'T' 'H' 'H' 'T' 'H' 'H' 'T' 'T' 'T' 'T' 'T' 'H' 'T' 'T' 'T' 'H' 'T' 'H'\n 'H' 'H' 'H' 'T' 'T' 'H' 'T' 'H' 'T' 'H' 'H' 'H' 'T' 'T' 'H' 'H' 'H' 'T'\n 'T' 'H' 'T' 'H' 'T' 'T' 'H' 'T' 'T' 'T']\n46 heads and 54 tails\n"
     ]
    }
   ],
   "source": [
    "\n",
    "p=0.5\n",
    "n=100\n",
    "tosses=np.random.choice([\"H\",\"T\"],p=[p,1-p], size=n)\n",
    "print(tosses)\n",
    "heads = list(tosses).count(\"H\")\n",
    "tails = list(tosses).count(\"T\")\n",
    "\n",
    "print(\"{} heads and {} tails\".format(heads,tails))"
   ]
  },
  {
   "cell_type": "code",
   "execution_count": 23,
   "metadata": {},
   "outputs": [
    {
     "name": "stdout",
     "output_type": "stream",
     "text": [
      "49 heads and 51 tails\n"
     ]
    }
   ],
   "source": [
    "np.random.seed(42)\n",
    "m = []\n",
    "e = [\"H\",\"T\"]\n",
    "h = 0\n",
    "t = 0\n",
    "a = np.random.randint(10, size=100)\n",
    "for i in a:\n",
    "    if i%2 == 0:\n",
    "        h += 1\n",
    "        m.append(e[0])\n",
    "    else:\n",
    "        t += 1\n",
    "        m.append(e[1])\n",
    "print(\"{} heads and {} tails\".format(h,t))\n"
   ]
  },
  {
   "cell_type": "code",
   "execution_count": 31,
   "metadata": {},
   "outputs": [
    {
     "name": "stdout",
     "output_type": "stream",
     "text": [
      "53 heads and 47 tails\n"
     ]
    }
   ],
   "source": [
    "a = 0\n",
    "b = 100\n",
    "size = 100\n",
    "e = [\"H\",\"T\"]\n",
    "h = 0\n",
    "t = 0\n",
    "m = []\n",
    "r = (b-a)*np.random.sample(size=size) + a\n",
    "for i in r:\n",
    "    if i<50:\n",
    "        h += 1\n",
    "        m.append(e[0])\n",
    "    else:\n",
    "        t += 1\n",
    "        m.append(e[1])\n",
    "print(\"{} heads and {} tails\".format(h,t))"
   ]
  },
  {
   "cell_type": "code",
   "execution_count": 6,
   "metadata": {},
   "outputs": [
    {
     "name": "stdout",
     "output_type": "stream",
     "text": [
      "result 0.6\nresult 0.66\nresult 0.6\nresult 0.452\nresult 0.506\nresult 0.481\nresult 0.4952\nresult 0.5118\nresult 0.5017\n"
     ]
    }
   ],
   "source": [
    "m = [10,50,100,250,500,1000,2500,5000,10000]\n",
    "p=0.5\n",
    "for n in m:\n",
    "    tosses=np.random.choice([\"H\",\"T\"],p=[p,1-p], size=n)\n",
    "    heads = list(tosses).count(\"H\")\n",
    "    tails = list(tosses).count(\"T\")\n",
    "    r = heads / n\n",
    "    print(\"result {}\".format(r))"
   ]
  },
  {
   "cell_type": "code",
   "execution_count": 8,
   "metadata": {},
   "outputs": [
    {
     "name": "stdout",
     "output_type": "stream",
     "text": [
      "result {1: 0.1638, 2: 0.165, 3: 0.164, 4: 0.1734, 5: 0.1681, 6: 0.1657}\n"
     ]
    }
   ],
   "source": [
    "import numpy as np\n",
    "\n",
    "m = [10,50,100,250,500,1000,2500,5000,10000]\n",
    "e = [1,2,3,4,5,6]\n",
    "r = {}\n",
    "p=0.5\n",
    "for n in m:\n",
    "    tosses=np.random.choice(e,p=[1/6,1/6,1/6,1/6,1/6,1/6], size=n)\n",
    "for i in e:\n",
    "    a = list(tosses).count(i)\n",
    "    result = a/n\n",
    "    r[i] = result\n",
    "print(\"result {}\".format(r))"
   ]
  },
  {
   "cell_type": "code",
   "execution_count": 18,
   "metadata": {},
   "outputs": [
    {
     "name": "stdout",
     "output_type": "stream",
     "text": [
      "result {10: 0.11538461538461539, 50: 0.38461538461538464, 100: 0.7115384615384616, 250: 1.8269230769230769, 500: 3.5961538461538463, 1000: 7.346153846153846, 2500: 19.28846153846154, 5000: 37.17307692307692, 10000: 73.98076923076923}\n"
     ]
    }
   ],
   "source": [
    "import numpy as np\n",
    "\n",
    "Ranks = ('1', '2', '3', '4', '5', '6', '7', '8', '9', '10', 'J', 'Q', 'K')\n",
    "Suits = ('♢', '♠', '♣', '♡')\n",
    "Cards = [(Rank, Suit) for Rank in Ranks for Suit in Suits]\n",
    "m = [10,50,100,250,500,1000,2500,5000,10000]\n",
    "p = []\n",
    "e = []\n",
    "for i in range(52):\n",
    "    p.append(1/52)\n",
    "    e.append(i)\n",
    "r = {}\n",
    "for n in m:\n",
    "    k = 0\n",
    "    tosses = np.random.choice(e,p=p, size=n)\n",
    "    t = []\n",
    "    for i in tosses:\n",
    "        t.append(Cards[i])\n",
    "    for i in t:\n",
    "        try:\n",
    "            if int(i[0])%2:\n",
    "                k += 1\n",
    "        except:\n",
    "            pass\n",
    "        r[n] = k/52\n",
    "print(\"result {}\".format(r))"
   ]
  },
  {
   "cell_type": "code",
   "execution_count": 35,
   "metadata": {},
   "outputs": [
    {
     "name": "stdout",
     "output_type": "stream",
     "text": [
      "[[[('10', '♢'), ('9', '♠'), ('3', '♣'), ('7', '♡')], [('K', '♢'), ('Q', '♠'), ('1', '♣'), ('2', '♡')], [('6', '♢'), ('3', '♠'), ('2', '♣'), ('4', '♡')], [('2', '♢'), ('6', '♠'), ('6', '♣'), ('10', '♡')]], [[('9', '♢'), ('2', '♠'), ('8', '♣'), ('5', '♡')], [('1', '♢'), ('7', '♠'), ('Q', '♣'), ('9', '♡')], [('3', '♢'), ('4', '♠'), ('10', '♣'), ('K', '♡')]], [[('4', '♢'), ('J', '♠'), ('4', '♣'), ('Q', '♡')], [('8', '♢'), ('5', '♠'), ('5', '♣'), ('6', '♡')], [('J', '♢'), ('K', '♠'), ('9', '♣'), ('8', '♡')]], [[('7', '♢'), ('10', '♠'), ('K', '♣'), ('1', '♡')], [('Q', '♢'), ('8', '♠'), ('7', '♣'), ('3', '♡')], [('5', '♢'), ('1', '♠'), ('J', '♣'), ('J', '♡')]]]\n"
     ]
    }
   ],
   "source": [
    "Ranks = ('1', '2', '3', '4', '5', '6', '7', '8', '9', '10', 'J', 'Q', 'K')\n",
    "Suits = ('♢', '♠', '♣', '♡')\n",
    "Cards = [(Rank, Suit) for Rank in Ranks for Suit in Suits]\n",
    "np.random.shuffle(Cards)\n",
    "k = 0 \n",
    "d = [[],[],[],[]]\n",
    "for i in Cards:\n",
    "    if i[1] == '♢':\n",
    "        d[0].append(i)\n",
    "    elif i[1] == '♠':\n",
    "        d[1].append(i)\n",
    "    elif i[1] == '♣':\n",
    "        d[2].append(i)\n",
    "    elif i[1] == '♡':\n",
    "        d[3].append(i)\n",
    "\n",
    "r = [[],[],[],[]]\n",
    "for i in range(13):\n",
    "    r[k].append([d[0][i],d[1][i],d[2][i],d[3][i]])\n",
    "    k += 1\n",
    "    if k == 4:\n",
    "        k = 0\n",
    "print(r)"
   ]
  },
  {
   "cell_type": "code",
   "execution_count": null,
   "metadata": {},
   "outputs": [],
   "source": []
  }
 ],
 "metadata": {
  "kernelspec": {
   "display_name": "Python 3",
   "language": "python",
   "name": "python3"
  },
  "language_info": {
   "codemirror_mode": {
    "name": "ipython",
    "version": 3
   },
   "file_extension": ".py",
   "mimetype": "text/x-python",
   "name": "python",
   "nbconvert_exporter": "python",
   "pygments_lexer": "ipython3",
   "version": "3.6.1"
  }
 },
 "nbformat": 4,
 "nbformat_minor": 0
}
